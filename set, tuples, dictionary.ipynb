{
 "cells": [
  {
   "cell_type": "markdown",
   "id": "3353f451-b2ab-4b47-827a-86422d437ec2",
   "metadata": {},
   "source": [
    "### Ans 1"
   ]
  },
  {
   "cell_type": "code",
   "execution_count": 1,
   "id": "3be031bf-7158-4fd5-9d47-562ca620802f",
   "metadata": {},
   "outputs": [
    {
     "ename": "SyntaxError",
     "evalue": "unmatched ')' (3686001157.py, line 2)",
     "output_type": "error",
     "traceback": [
      "\u001b[0;36m  Cell \u001b[0;32mIn[1], line 2\u001b[0;36m\u001b[0m\n\u001b[0;31m    1)Ordered\u001b[0m\n\u001b[0m     ^\u001b[0m\n\u001b[0;31mSyntaxError\u001b[0m\u001b[0;31m:\u001b[0m unmatched ')'\n"
     ]
    }
   ],
   "source": [
    "Characteristics of tuples are:\n",
    "    1)Ordered\n",
    "    2)Immutable\n",
    "    3)Concatenation\n",
    "    4)Packaging and Unpackaging\n",
    "    5)Built-in-function\n",
    "tuple is immutable."
   ]
  },
  {
   "cell_type": "markdown",
   "id": "b7fe0401-cf76-47ea-a125-c5141f54b471",
   "metadata": {},
   "source": [
    "### Ans 2"
   ]
  },
  {
   "cell_type": "code",
   "execution_count": null,
   "id": "abab150f-3728-482a-b20f-332eead2ee29",
   "metadata": {},
   "outputs": [],
   "source": [
    "In python tuple have two methods:\n",
    "    1)count()\n",
    "    2)index()"
   ]
  },
  {
   "cell_type": "code",
   "execution_count": 2,
   "id": "3a4e48a2-5421-4f7d-a765-18d28589bde2",
   "metadata": {},
   "outputs": [
    {
     "data": {
      "text/plain": [
       "2"
      ]
     },
     "execution_count": 2,
     "metadata": {},
     "output_type": "execute_result"
    }
   ],
   "source": [
    "i = (1,2,3,3,4,5)\n",
    "i.count(3)"
   ]
  },
  {
   "cell_type": "code",
   "execution_count": 3,
   "id": "f92a3c36-171e-4d27-816e-43b22158665c",
   "metadata": {},
   "outputs": [
    {
     "data": {
      "text/plain": [
       "2"
      ]
     },
     "execution_count": 3,
     "metadata": {},
     "output_type": "execute_result"
    }
   ],
   "source": [
    "j = (1,2,3,4,5)\n",
    "j.index(3)"
   ]
  },
  {
   "cell_type": "code",
   "execution_count": null,
   "id": "213dcff7-1644-41c4-8e7b-5cf3928d98cd",
   "metadata": {},
   "outputs": [],
   "source": [
    "Tuples have two built-in methods as compared  to lists because \n",
    "tuple are immutable."
   ]
  },
  {
   "cell_type": "markdown",
   "id": "400f7106-4926-4c74-a2a9-3d32ddfcac56",
   "metadata": {},
   "source": [
    "### Ans 3"
   ]
  },
  {
   "cell_type": "code",
   "execution_count": null,
   "id": "b0662745-218c-4db0-8424-900a8188e565",
   "metadata": {},
   "outputs": [],
   "source": [
    "set do not allow duplicate items."
   ]
  },
  {
   "cell_type": "code",
   "execution_count": 4,
   "id": "2dd50f74-f95d-4a87-8352-534d270ef411",
   "metadata": {},
   "outputs": [
    {
     "name": "stdout",
     "output_type": "stream",
     "text": [
      "{1, 2, 3, 4, 5}\n"
     ]
    }
   ],
   "source": [
    "l = [1,2,2,3,4,5,5]\n",
    "k = set(l)\n",
    "print(k)"
   ]
  },
  {
   "cell_type": "markdown",
   "id": "25913daa-8e80-46cd-bd1c-04e1267be8da",
   "metadata": {},
   "source": [
    "### Ans 4"
   ]
  },
  {
   "cell_type": "code",
   "execution_count": null,
   "id": "93060817-5d8f-45f1-9555-0ca23772b58d",
   "metadata": {},
   "outputs": [],
   "source": [
    "Difference between union() and update() is that union() returns a\n",
    "new set containing the combined elements of two or more sets,\n",
    "while update() adds the elements of another set to an existing\n",
    "set."
   ]
  },
  {
   "cell_type": "code",
   "execution_count": 10,
   "id": "b769e1dc-9f7a-4d38-97bf-8f7d7d621ea8",
   "metadata": {},
   "outputs": [
    {
     "name": "stdout",
     "output_type": "stream",
     "text": [
      "{1, 2, 3, 4, 5, 6, 7}\n"
     ]
    }
   ],
   "source": [
    "set1 = {1,2,3,4,5}\n",
    "set2 = {3,4,5,6,7}\n",
    "\n",
    "set3 =set1.union(set2)\n",
    "print(set3)"
   ]
  },
  {
   "cell_type": "code",
   "execution_count": 14,
   "id": "48a16a03-b1d1-478c-86d1-46bf31d684b4",
   "metadata": {},
   "outputs": [
    {
     "name": "stdout",
     "output_type": "stream",
     "text": [
      "{1, 2, 3, 4, 5}\n"
     ]
    }
   ],
   "source": [
    "set1 = {1,2,3}\n",
    "set2 = {3,4,5}\n",
    "\n",
    "set1.update(set2)\n",
    "print(set1)"
   ]
  },
  {
   "cell_type": "markdown",
   "id": "2a9366ce-e723-4e0e-b35f-269e978b2ddb",
   "metadata": {},
   "source": [
    "### Ans 5"
   ]
  },
  {
   "cell_type": "code",
   "execution_count": null,
   "id": "40c63f3a-5392-4ff4-a174-aacf0fb546c3",
   "metadata": {},
   "outputs": [],
   "source": [
    "Dictionary is a collectionn of data that stores data in the\n",
    "key-value form."
   ]
  },
  {
   "cell_type": "code",
   "execution_count": 15,
   "id": "7b5d00e5-e7c8-4f9b-9067-7cb6914723ef",
   "metadata": {},
   "outputs": [],
   "source": [
    "d1 = {\"name\" : \"abhi\" , \"number\" :1234}"
   ]
  },
  {
   "cell_type": "code",
   "execution_count": 16,
   "id": "92008a90-91ef-434c-a617-d6245b905af7",
   "metadata": {},
   "outputs": [
    {
     "data": {
      "text/plain": [
       "{'name': 'abhi', 'number': 1234}"
      ]
     },
     "execution_count": 16,
     "metadata": {},
     "output_type": "execute_result"
    }
   ],
   "source": [
    "d1"
   ]
  },
  {
   "cell_type": "code",
   "execution_count": null,
   "id": "586818d2-884a-43d3-856f-44ba6b0972c5",
   "metadata": {},
   "outputs": [],
   "source": [
    "Dictionaries are unordered."
   ]
  },
  {
   "cell_type": "markdown",
   "id": "cb8f88e0-f2fb-47cd-a1a2-5a21865486ca",
   "metadata": {},
   "source": [
    "### Ans 6"
   ]
  },
  {
   "cell_type": "code",
   "execution_count": null,
   "id": "b805b285-d144-4fcf-b36a-eec9b27f9f85",
   "metadata": {},
   "outputs": [],
   "source": [
    "Yes, we can create nested dictionary."
   ]
  },
  {
   "cell_type": "code",
   "execution_count": 17,
   "id": "16766cd3-0c48-48f9-8a78-12d4bc51a3d4",
   "metadata": {},
   "outputs": [],
   "source": [
    "s = {\"key\" : {\"name\" : \"abhi\" , \"class\" : \"B Tech\"}}"
   ]
  },
  {
   "cell_type": "code",
   "execution_count": 18,
   "id": "2a43b07e-ab6b-4bd1-adfa-3a27fcc593c0",
   "metadata": {},
   "outputs": [
    {
     "data": {
      "text/plain": [
       "{'key': {'name': 'abhi', 'class': 'B Tech'}}"
      ]
     },
     "execution_count": 18,
     "metadata": {},
     "output_type": "execute_result"
    }
   ],
   "source": [
    "s"
   ]
  },
  {
   "cell_type": "markdown",
   "id": "63130a27-0658-4e8c-861e-bac3a5ef6582",
   "metadata": {},
   "source": [
    "### Ans 7"
   ]
  },
  {
   "cell_type": "code",
   "execution_count": 19,
   "id": "5581b50f-1079-4546-8381-0ed765a694f7",
   "metadata": {},
   "outputs": [
    {
     "name": "stdout",
     "output_type": "stream",
     "text": [
      "{'language': 'Python', 'course': 'Data Science Masters', 'topics': ['Python', 'Machine Learning', 'Deep Learning']}\n"
     ]
    }
   ],
   "source": [
    "d = {'language': 'Python', 'course': 'Data Science Masters'}\n",
    "d.setdefault('topics', ['Python', 'Machine Learning', 'Deep Learning'])\n",
    "print(d)"
   ]
  },
  {
   "cell_type": "markdown",
   "id": "6541a513-f748-453f-8a46-db92e6042516",
   "metadata": {},
   "source": [
    "### Ans 8"
   ]
  },
  {
   "cell_type": "code",
   "execution_count": null,
   "id": "666a9c04-3286-498b-a311-58ea059ea44c",
   "metadata": {},
   "outputs": [],
   "source": [
    "Three view objects in dictionary are:\n",
    "    1)dict.keys()\n",
    "    2)dict.values()\n",
    "    3)dict.items()"
   ]
  },
  {
   "cell_type": "code",
   "execution_count": 21,
   "id": "4950111d-0eec-4ea0-b498-1f80509e2c1b",
   "metadata": {},
   "outputs": [
    {
     "name": "stdout",
     "output_type": "stream",
     "text": [
      "dict_keys(['Sport', 'Teams'])\n",
      "dict_values(['Cricket', ['India', 'Australia', 'England', 'South Africa', 'Sri Lanka', 'New Zealand']])\n",
      "dict_items([('Sport', 'Cricket'), ('Teams', ['India', 'Australia', 'England', 'South Africa', 'Sri Lanka', 'New Zealand'])])\n"
     ]
    }
   ],
   "source": [
    "k = {'Sport': 'Cricket', 'Teams': ['India', 'Australia', 'England', 'South Africa', 'Sri Lanka', 'New Zealand']}\n",
    "keys_view = k.keys()\n",
    "print(keys_view)\n",
    "values_view = k.values()\n",
    "print(values_view)\n",
    "items_view = k.items()\n",
    "print(items_view)"
   ]
  },
  {
   "cell_type": "code",
   "execution_count": null,
   "id": "92a28167-8070-4b37-8004-5628ee3112fd",
   "metadata": {},
   "outputs": [],
   "source": []
  }
 ],
 "metadata": {
  "kernelspec": {
   "display_name": "Python 3 (ipykernel)",
   "language": "python",
   "name": "python3"
  },
  "language_info": {
   "codemirror_mode": {
    "name": "ipython",
    "version": 3
   },
   "file_extension": ".py",
   "mimetype": "text/x-python",
   "name": "python",
   "nbconvert_exporter": "python",
   "pygments_lexer": "ipython3",
   "version": "3.10.8"
  }
 },
 "nbformat": 4,
 "nbformat_minor": 5
}
